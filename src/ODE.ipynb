{
 "cells": [
  {
   "cell_type": "code",
   "execution_count": 56,
   "metadata": {},
   "outputs": [],
   "source": [
    "import numpy.random as npr\n",
    "\n",
    "import jax.numpy as jnp\n",
    "from jax.scipy.special import logsumexp\n",
    "from jax.experimental.ode import odeint\n",
    "from jax import jit, grad, random\n",
    "from jax.experimental import optimizers\n",
    "from jax.experimental import stax\n",
    "from jax.experimental.stax import Dense, Relu, LogSoftmax\n",
    "import jax.scipy.stats.norm as norm\n",
    "import jax.scipy.stats.gamma as gamma\n",
    "\n",
    "import numpyro\n",
    "import numpyro.distributions as dist\n",
    "from numpyro.infer import MCMC, NUTS, Predictive, init_to_sample, init_to_median\n",
    "\n",
    "import matplotlib.pyplot as plt\n",
    "import pandas as pd"
   ]
  },
  {
   "cell_type": "code",
   "execution_count": 57,
   "metadata": {},
   "outputs": [
    {
     "data": {
      "image/png": "[encoded data removed]",
      "text/plain": [
       "<Figure size 432x288 with 1 Axes>"
      ]
     },
     "metadata": {
      "needs_background": "light"
     },
     "output_type": "display_data"
    }
   ],
   "source": [
    "# Generate data \n",
    "def dstate_dt(state, t, params):\n",
    "    \"\"\"\n",
    "    Protein transduction model.\n",
    "    \"\"\"\n",
    "    p1, p2, p3, p4, p5, p6 = (\n",
    "        params[..., 0],\n",
    "        params[..., 1],\n",
    "        params[..., 2],\n",
    "        params[..., 3],\n",
    "        params[..., 4],\n",
    "        params[..., 5],\n",
    "    )\n",
    "    S = state[0]\n",
    "    dS = state[1]\n",
    "    R = state[2]\n",
    "    Rs = state[3]\n",
    "    Rpp = state[4]\n",
    "    dstate = [-p1*S - p2*S*R + p3*R*S, \n",
    "              p1*S, \n",
    "              -p2*S*R + p3*Rs + p5*Rpp/(p6+Rpp),\n",
    "             p2*S*R - p3*Rs - p4*Rs,\n",
    "             p4*Rs - p5*Rpp/(p6+Rpp)]\n",
    "    return jnp.stack(dstate)\n",
    "\n",
    "init_rng = npr.RandomState(0)\n",
    "\n",
    "t = [0., 1., 2., 4., 5., 7., 10., 15., 20., 30., 40., 50., 60., 80., 100.]\n",
    "true_params = jnp.array([0.07, 0.6, 0.05, 0.3, 0.017, 0.3])\n",
    "init_state = [1.0, 0., 1.0, 0., 0.]\n",
    "sigma = 0.01\n",
    "\n",
    "ode_solution = odeint(dstate_dt, jnp.array(init_state), jnp.array(t), true_params)\n",
    "yobs = ode_solution + sigma * init_rng.normal(size=(len(t),len(init_state)))\n",
    "\n",
    "plt.plot(t, yobs, lw=2)\n",
    "plt.xlabel('t')\n",
    "plt.show()"
   ]
  },
  {
   "cell_type": "code",
   "execution_count": 58,
   "metadata": {},
   "outputs": [],
   "source": [
    "def model(y=None):\n",
    "    \"\"\"\n",
    "    :param numpy.ndarray y: measured populations with shape (15, 5)\n",
    "    \"\"\"\n",
    "    # initial state\n",
    "    state_init = jnp.array([1.0, 0., 1.0, 0., 0.])\n",
    "    # measurement times\n",
    "    t = jnp.array([0., 1., 2., 4., 5., 7., 10., 15., 20., 30., 40., 50., 60., 80., 100.])\n",
    "    # parameters p1-6 of dstate_dt\n",
    "    theta = numpyro.sample(\n",
    "        \"theta\",\n",
    "        dist.Gamma(\n",
    "            concentration=jnp.array([1.0, 1.0, 1.0, 1.0, 1.0, 1.0]),\n",
    "            rate=jnp.array([2.0, 2.0, 2.0, 2.0, 2.0, 2.0]),\n",
    "        ),\n",
    "    )\n",
    "    # integrate dstate/dt, the result will have shape 15 x 5\n",
    "    state = odeint(dstate_dt, state_init, t, theta, rtol=1e-6, atol=1e-5, mxstep=1000)\n",
    "    # measurement errors\n",
    "    sigma = 0.01\n",
    "    # measured populations\n",
    "    numpyro.sample(\"y\", dist.Normal(state, sigma), obs=y)"
   ]
  },
  {
   "cell_type": "code",
   "execution_count": 59,
   "metadata": {},
   "outputs": [
    {
     "name": "stderr",
     "output_type": "stream",
     "text": [
      "sample: 100%|██████████| 1500/1500 [02:03<00:00, 12.14it/s, 939 steps of size 1.70e-06. acc. prob=0.80] "
     ]
    },
    {
     "name": "stdout",
     "output_type": "stream",
     "text": [
      "\n",
      "                mean       std    median      5.0%     95.0%     n_eff     r_hat\n",
      "  theta[0]      0.68      0.00      0.68      0.68      0.68      0.51      1.05\n",
      "  theta[1]      0.05      0.00      0.05      0.05      0.05      0.50      1.00\n",
      "  theta[2]      0.30      0.00      0.30      0.30      0.30      0.50      1.00\n",
      "  theta[3]      0.34      0.00      0.34      0.34      0.34      0.50      1.00\n",
      "  theta[4]      0.20      0.00      0.20      0.20      0.20      0.50      1.00\n",
      "  theta[5]      0.40      0.00      0.40      0.40      0.40      1.80      1.12\n",
      "\n",
      "Number of divergences: 214\n"
     ]
    },
    {
     "name": "stderr",
     "output_type": "stream",
     "text": [
      "\n"
     ]
    }
   ],
   "source": [
    "num_warmup = 500\n",
    "num_samples = 1000\n",
    "num_chains = 1\n",
    "\n",
    "# use dense_mass for better mixing rate\n",
    "mcmc = MCMC(\n",
    "    #NUTS(model, dense_mass=True, init_strategy=init_to_sample()),\n",
    "    NUTS(model, dense_mass=True, init_strategy=init_to_median(num_samples=10)),\n",
    "    num_warmup,\n",
    "    num_samples,\n",
    ")\n",
    "with numpyro.validation_enabled():\n",
    "    result = mcmc.run(random.PRNGKey(1), y=yobs)\n",
    "mcmc.print_summary()"
   ]
  },
  {
   "cell_type": "code",
   "execution_count": null,
   "metadata": {},
   "outputs": [],
   "source": []
  },
  {
   "cell_type": "code",
   "execution_count": null,
   "metadata": {},
   "outputs": [],
   "source": []
  },
  {
   "cell_type": "code",
   "execution_count": null,
   "metadata": {},
   "outputs": [],
   "source": []
  }
 ],
 "metadata": {
  "kernelspec": {
   "display_name": "Python 3",
   "language": "python",
   "name": "python3"
  },
  "language_info": {
   "codemirror_mode": {
    "name": "ipython",
    "version": 3
   },
   "file_extension": ".py",
   "mimetype": "text/x-python",
   "name": "python",
   "nbconvert_exporter": "python",
   "pygments_lexer": "ipython3",
   "version": "3.8.5"
  }
 },
 "nbformat": 4,
 "nbformat_minor": 4
}
