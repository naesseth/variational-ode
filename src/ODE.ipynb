{
 "cells": [
  {
   "cell_type": "code",
   "execution_count": 71,
   "metadata": {},
   "outputs": [],
   "source": [
    "import numpy.random as npr\n",
    "from scipy.special import digamma, polygamma\n",
    "\n",
    "import jax.numpy as jnp\n",
    "from jax.scipy.special import logsumexp\n",
    "from jax.experimental.ode import odeint\n",
    "from jax import jit, grad, random\n",
    "from jax.experimental import optimizers\n",
    "from jax.experimental import stax\n",
    "from jax.experimental.stax import Dense, Relu, LogSoftmax\n",
    "import jax.scipy.stats.norm as norm\n",
    "import jax.scipy.stats.gamma as gamma\n",
    "\n",
    "import numpyro\n",
    "import numpyro.distributions as dist\n",
    "from numpyro.infer import MCMC, NUTS, Predictive, init_to_sample, init_to_median, init_to_value\n",
    "\n",
    "import matplotlib.pyplot as plt\n",
    "import pandas as pd"
   ]
  },
  {
   "cell_type": "code",
   "execution_count": 66,
   "metadata": {},
   "outputs": [
    {
     "data": {
      "image/png": "[encoded data removed]",
      "text/plain": [
       "<Figure size 432x288 with 1 Axes>"
      ]
     },
     "metadata": {
      "needs_background": "light"
     },
     "output_type": "display_data"
    }
   ],
   "source": [
    "# Generate data \n",
    "def dstate_dt(state, t, params):\n",
    "    \"\"\"\n",
    "    Protein transduction model.\n",
    "    \"\"\"\n",
    "    p1, p2, p3, p4, p5, p6 = (\n",
    "        params[..., 0],\n",
    "        params[..., 1],\n",
    "        params[..., 2],\n",
    "        params[..., 3],\n",
    "        params[..., 4],\n",
    "        params[..., 5],\n",
    "    )\n",
    "    S = state[0]\n",
    "    dS = state[1]\n",
    "    R = state[2]\n",
    "    Rs = state[3]\n",
    "    Rpp = state[4]\n",
    "    dstate = [-p1*S - p2*S*R + p3*R*S, \n",
    "              p1*S, \n",
    "              -p2*S*R + p3*Rs + p5*Rpp/(p6+Rpp),\n",
    "             p2*S*R - p3*Rs - p4*Rs,\n",
    "             p4*Rs - p5*Rpp/(p6+Rpp)]\n",
    "    return jnp.stack(dstate)\n",
    "\n",
    "init_rng = npr.RandomState(0)\n",
    "\n",
    "t = [0., 1., 2., 4., 5., 7., 10., 15., 20., 30., 40., 50., 60., 80., 100.]\n",
    "true_params = jnp.array([0.07, 0.6, 0.05, 0.3, 0.017, 0.3])\n",
    "init_state = [1.0, 0.0, 1.0, 0.0, 0.0]\n",
    "sigma = 0.01\n",
    "\n",
    "ode_solution = odeint(dstate_dt, jnp.array(init_state), jnp.array(t), true_params, rtol=1e-6, atol=1e-5, mxstep=1000)\n",
    "yobs = ode_solution + sigma * init_rng.normal(size=(len(t),len(init_state)))\n",
    "\n",
    "plt.plot(t, yobs, lw=2)\n",
    "plt.xlabel('t')\n",
    "plt.show()"
   ]
  },
  {
   "cell_type": "code",
   "execution_count": 69,
   "metadata": {},
   "outputs": [],
   "source": [
    "def model(y=None):\n",
    "    \"\"\"\n",
    "    :param numpy.ndarray y: measured populations with shape (15, 5)\n",
    "    \"\"\"\n",
    "    # initial state\n",
    "    state_init = jnp.array([1.0, 0., 1.0, 0., 0.])\n",
    "    # measurement times\n",
    "    t = jnp.array([0., 1., 2., 4., 5., 7., 10., 15., 20., 30., 40., 50., 60., 80., 100])\n",
    "    # parameters p1-6 of dstate_dt\n",
    "    theta = numpyro.sample(\n",
    "        \"theta\",\n",
    "        dist.Gamma(\n",
    "            concentration=jnp.array([1.0, 1.0, 1.0, 1.0, 1.0, 1.0]),\n",
    "            rate=jnp.array([2.0, 2.0, 2.0, 2.0, 2.0, 2.0]),\n",
    "        ),\n",
    "        #dist.Beta(\n",
    "        #    concentration1=jnp.array([1.0, 1.0, 1.0, 1.0, 1.0, 1.0]),\n",
    "        #    concentration0=jnp.array([2.0, 2.0, 2.0, 2.0, 2.0, 2.0]),\n",
    "        #),\n",
    "    )\n",
    "    # integrate dstate/dt, the result will have shape 15 x 5\n",
    "    state = odeint(dstate_dt, state_init, t[:-2], theta, rtol=1e-6, atol=1e-5, mxstep=1000)\n",
    "    # measurement errors\n",
    "    sigma = 0.01\n",
    "    # measured populations\n",
    "    numpyro.sample(\"y\", dist.Normal(state, sigma), obs=y[:-2])"
   ]
  },
  {
   "cell_type": "code",
   "execution_count": 70,
   "metadata": {},
   "outputs": [
    {
     "name": "stderr",
     "output_type": "stream",
     "text": [
      "sample: 100%|██████████| 1500/1500 [01:07<00:00, 22.23it/s, 1023 steps of size 1.25e-03. acc. prob=0.90]\n"
     ]
    },
    {
     "name": "stdout",
     "output_type": "stream",
     "text": [
      "\n",
      "                mean       std    median      5.0%     95.0%     n_eff     r_hat\n",
      "  theta[0]      0.37      0.29      0.27      0.07      0.78      2.39      3.17\n",
      "  theta[1]      0.41      0.32      0.28      0.08      0.94      2.88      2.94\n",
      "  theta[2]      0.03      0.03      0.02      0.00      0.08      2.51      2.61\n",
      "  theta[3]      0.33      0.02      0.34      0.31      0.34      3.18      1.66\n",
      "  theta[4]      0.13      0.06      0.16      0.04      0.19      2.48      2.67\n",
      "  theta[5]      0.67      0.29      0.51      0.42      1.15      2.80      2.06\n",
      "\n",
      "Number of divergences: 2\n"
     ]
    }
   ],
   "source": [
    "num_warmup = 500\n",
    "num_samples = 1000\n",
    "num_chains = 1\n",
    "\n",
    "#init_strategy = init_to_sample()\n",
    "init_strategy = init_to_median(num_samples=10)\n",
    "#init_strategy=init_to_value(values={\"theta\": jnp.array([0.07, 0.6, 0.05, 0.3, 0.017, 0.3])})\n",
    "\n",
    "# use dense_mass for better mixing rate\n",
    "mcmc = MCMC(\n",
    "    #NUTS(model, init_strategy=init_strategy),\n",
    "    NUTS(model, dense_mass=True, init_strategy=init_strategy, adapt_step_size=True),\n",
    "    num_warmup,\n",
    "    num_samples,\n",
    ")\n",
    "with numpyro.validation_enabled():\n",
    "    result = mcmc.run(random.PRNGKey(1), y=yobs)\n",
    "mcmc.print_summary()"
   ]
  },
  {
   "cell_type": "markdown",
   "metadata": {},
   "source": [
    "$$\n",
    "\\begin{align}\n",
    "\\phi &= \\log \\theta \\\\\n",
    "\\mu_\\phi &= \\mathbb{E}[\\phi] = \\mathbb{E}[\\log \\theta] = \\psi(\\alpha)-\\log \\beta \\\\\n",
    "\\Sigma_{\\phi\\phi} &= \\textrm{var}(\\phi) I = \\psi^{(1)}(\\alpha) I\n",
    "\\end{align}\n",
    "$$"
   ]
  },
  {
   "cell_type": "code",
   "execution_count": 198,
   "metadata": {},
   "outputs": [
    {
     "name": "stdout",
     "output_type": "stream",
     "text": [
      "[-1.2703625 -1.2703625 -1.2703587 -1.2703625 -1.2703644 -1.270362 ]\n"
     ]
    }
   ],
   "source": [
    "shp = 1.\n",
    "rt = 2.\n",
    "dim = 6\n",
    "mu_phi = (digamma(shp)-jnp.log(rt))*jnp.ones(dim)\n",
    "Sigma_phi = polygamma(1, shp) * jnp.eye(dim)\n",
    "\n",
    "# Setup sigma points\n",
    "alpha = 1e-1\n",
    "kappa = 0.\n",
    "beta = 2.\n",
    "lbda = (dim+kappa)*alpha**2-dim\n",
    "Sigma_sqrt = jnp.sqrt((dim+lbda)*polygamma(1,shp))* jnp.eye(dim)\n",
    "sigma_points = []\n",
    "weights_m = []\n",
    "weights_c = []\n",
    "sigma_points.append(mu_phi)\n",
    "weights_m.append(lbda/(dim+lbda))\n",
    "weights_c.append(lbda/(dim+lbda)+1.-alpha**2+beta)\n",
    "\n",
    "for i in range(dim):\n",
    "    weights_m.append(0.5/(dim+lbda))\n",
    "    weights_m.append(0.5/(dim+lbda))\n",
    "    weights_c.append(0.5/(dim+lbda))\n",
    "    weights_c.append(0.5/(dim+lbda))\n",
    "    sigma_points.append(mu_phi+Sigma_sqrt[i])\n",
    "    sigma_points.append(mu_phi-Sigma_sqrt[i])\n",
    "    \n",
    "sigma_points = jnp.array(sigma_points)\n",
    "weights_m = jnp.array(weights_m)\n",
    "weights_c = jnp.array(weights_c)\n",
    "\n",
    "print(jnp.dot(weights_m,sigma_points))"
   ]
  },
  {
   "cell_type": "code",
   "execution_count": 199,
   "metadata": {},
   "outputs": [],
   "source": [
    "# initial state\n",
    "state_init = jnp.array([1.0, 0., 1.0, 0., 0.])\n",
    "# measurement times\n",
    "t = jnp.array([0., 1., 2., 4., 5., 7., 10., 15., 20., 30., 40., 50., 60., 80., 100])\n",
    "# nl sigma ponts\n",
    "nl_sigma_points = jnp.array([odeint(dstate_dt, state_init, t, jnp.exp(sigma_points[i]), rtol=1e-6, atol=1e-5, mxstep=1000) \n",
    "                             for i in range(2*dim+1)])"
   ]
  },
  {
   "cell_type": "code",
   "execution_count": 200,
   "metadata": {},
   "outputs": [],
   "source": [
    "# compute mu_y\n",
    "mu_y = jnp.average(nl_sigma_points, axis=0, weights=weights_m)\n",
    "demeaned = (nl_sigma_points-mu_y).reshape((2*dim+1,len(t)*len(state_init)))\n",
    "Sigma_yy = (sigma**2) * jnp.eye(len(t)*len(state_init)) + jnp.cov(demeaned.T, aweights=weights_c)\n"
   ]
  },
  {
   "cell_type": "code",
   "execution_count": 204,
   "metadata": {},
   "outputs": [
    {
     "ename": "AttributeError",
     "evalue": "'_DeviceArray' object has no attribute 'det'",
     "output_type": "error",
     "traceback": [
      "\u001b[0;31m---------------------------------------------------------------------------\u001b[0m",
      "\u001b[0;31mAttributeError\u001b[0m                            Traceback (most recent call last)",
      "\u001b[0;32m<ipython-input-204-1f280b6e5710>\u001b[0m in \u001b[0;36m<module>\u001b[0;34m\u001b[0m\n\u001b[0;32m----> 1\u001b[0;31m \u001b[0mSigma_yy\u001b[0m\u001b[0;34m.\u001b[0m\u001b[0mdet\u001b[0m\u001b[0;34m\u001b[0m\u001b[0;34m\u001b[0m\u001b[0m\n\u001b[0m",
      "\u001b[0;31mAttributeError\u001b[0m: '_DeviceArray' object has no attribute 'det'"
     ]
    }
   ],
   "source": [
    "Sigma_yy"
   ]
  },
  {
   "cell_type": "code",
   "execution_count": 171,
   "metadata": {},
   "outputs": [
    {
     "data": {
      "text/plain": [
       "DeviceArray(0.0001549, dtype=float32)"
      ]
     },
     "execution_count": 171,
     "metadata": {},
     "output_type": "execute_result"
    }
   ],
   "source": [
    "jnp.cov(demeaned.T, aweights=weights_c)"
   ]
  },
  {
   "cell_type": "code",
   "execution_count": null,
   "metadata": {},
   "outputs": [],
   "source": []
  }
 ],
 "metadata": {
  "kernelspec": {
   "display_name": "Python 3",
   "language": "python",
   "name": "python3"
  },
  "language_info": {
   "codemirror_mode": {
    "name": "ipython",
    "version": 3
   },
   "file_extension": ".py",
   "mimetype": "text/x-python",
   "name": "python",
   "nbconvert_exporter": "python",
   "pygments_lexer": "ipython3",
   "version": "3.8.5"
  }
 },
 "nbformat": 4,
 "nbformat_minor": 4
}
