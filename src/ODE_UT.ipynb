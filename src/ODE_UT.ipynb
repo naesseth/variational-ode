{
 "cells": [
  {
   "cell_type": "code",
   "execution_count": 1,
   "metadata": {},
   "outputs": [],
   "source": [
    "import numpy as np\n",
    "import numpy.random as npr\n",
    "from scipy.integrate import odeint\n",
    "from scipy.special import digamma, polygamma\n",
    "\n",
    "import matplotlib.pyplot as plt\n",
    "import pandas as pd"
   ]
  },
  {
   "cell_type": "code",
   "execution_count": 13,
   "metadata": {},
   "outputs": [
    {
     "data": {
      "image/png": "[encoded data removed]",
      "text/plain": [
       "<Figure size 432x288 with 1 Axes>"
      ]
     },
     "metadata": {
      "needs_background": "light"
     },
     "output_type": "display_data"
    }
   ],
   "source": [
    "# Generate data \n",
    "def dstate_dt(state, t, *params):\n",
    "    \"\"\"\n",
    "    Protein transduction model.\n",
    "    \"\"\"\n",
    "    p1, p2, p3, p4, p5, p6 = params\n",
    "    S = state[0]\n",
    "    dS = state[1]\n",
    "    R = state[2]\n",
    "    Rs = state[3]\n",
    "    Rpp = state[4]\n",
    "    dstate = [-p1*S - p2*S*R + p3*R*S, \n",
    "              p1*S, \n",
    "              -p2*S*R + p3*Rs + p5*Rpp/(p6+Rpp),\n",
    "             p2*S*R - p3*Rs - p4*Rs,\n",
    "             p4*Rs - p5*Rpp/(p6+Rpp)]\n",
    "    return np.stack(dstate)\n",
    "\n",
    "init_rng = npr.RandomState(0)\n",
    "\n",
    "t = [0., 1., 2., 4., 5., 7., 10., 15., 20., 30., 40., 50., 60., 80., 100.]\n",
    "true_params = (0.07, 0.6, 0.05, 0.3, 0.017, 0.3)\n",
    "init_state = [1.0, 0.0, 1.0, 0.0, 0.0]\n",
    "sigma = 0.01\n",
    "\n",
    "ode_solution = odeint(dstate_dt, np.array(init_state), np.array(t), args=true_params, rtol=1e-6, atol=1e-5, mxstep=1000)\n",
    "yobs = ode_solution + sigma * init_rng.normal(size=(len(t),len(init_state)))\n",
    "\n",
    "plt.plot(t, yobs, lw=2)\n",
    "plt.xlabel('t')\n",
    "plt.show()"
   ]
  },
  {
   "cell_type": "code",
   "execution_count": 138,
   "metadata": {},
   "outputs": [
    {
     "name": "stdout",
     "output_type": "stream",
     "text": [
      "[-1.27036285 -1.27036285 -1.27036285 -1.27036285 -1.27036285 -1.27036285]\n",
      "[-1.27036285 -1.27036285 -1.27036285 -1.27036285 -1.27036285 -1.27036285]\n"
     ]
    }
   ],
   "source": [
    "shp = 1.\n",
    "rt = 2.\n",
    "dim = 6\n",
    "mu_phi = (digamma(shp)-np.log(rt))*np.ones(dim)\n",
    "Sigma_phi = polygamma(1, shp) * np.eye(dim)\n",
    "\n",
    "# Setup sigma points\n",
    "alpha = 1e-2\n",
    "kappa = 0.\n",
    "beta = 2.\n",
    "lbda = (dim+kappa)*alpha**2-dim\n",
    "Sigma_sqrt = np.sqrt((dim+lbda)*polygamma(1,shp))* np.eye(dim)\n",
    "sigma_points = []\n",
    "weights_m = []\n",
    "weights_c = []\n",
    "sigma_points.append(mu_phi)\n",
    "weights_m.append(lbda/(dim+lbda))\n",
    "weights_c.append(lbda/(dim+lbda)+1.-alpha**2+beta)\n",
    "\n",
    "for i in range(dim):\n",
    "    weights_m.append(0.5/(dim+lbda))\n",
    "    weights_m.append(0.5/(dim+lbda))\n",
    "    weights_c.append(0.5/(dim+lbda))\n",
    "    weights_c.append(0.5/(dim+lbda))\n",
    "    sigma_points.append(mu_phi+Sigma_sqrt[i])\n",
    "    sigma_points.append(mu_phi-Sigma_sqrt[i])\n",
    "    \n",
    "sigma_points = np.array(sigma_points)\n",
    "weights_m = np.array(weights_m)\n",
    "weights_c = np.array(weights_c)\n",
    "\n",
    "print(np.average(sigma_points, axis=0, weights=weights_m))\n",
    "print(mu_phi)"
   ]
  },
  {
   "cell_type": "code",
   "execution_count": 139,
   "metadata": {},
   "outputs": [],
   "source": [
    "# initial state\n",
    "state_init = np.array([1.0, 0., 1.0, 0., 0.])\n",
    "# measurement times\n",
    "t = np.array([0., 1., 2., 4., 5., 7., 10., 15., 20., 30., 40., 50., 60., 80., 100])\n",
    "# nl sigma ponts\n",
    "nl_sigma_points = np.array([odeint(dstate_dt, state_init, t, args=tuple([np.exp(sigma_points[i,j]) for j in range(6)]), rtol=1e-6, atol=1e-5, mxstep=1000) \n",
    "                             for i in range(2*dim+1)])"
   ]
  },
  {
   "cell_type": "markdown",
   "metadata": {},
   "source": [
    "$$\n",
    "\\begin{align}\n",
    "\\phi &= \\log \\theta \\\\\n",
    "\\mu_\\phi &= \\mathbb{E}[\\phi] = \\mathbb{E}[\\log \\theta] = \\psi(\\alpha)-\\log \\beta \\\\\n",
    "\\Sigma_{\\phi\\phi} &= \\textrm{var}(\\phi) I = \\psi^{(1)}(\\alpha) I\n",
    "\\end{align}\n",
    "$$"
   ]
  },
  {
   "cell_type": "code",
   "execution_count": 140,
   "metadata": {},
   "outputs": [],
   "source": [
    "# compute mu_y\n",
    "mu_y = np.average(nl_sigma_points[:,1:], axis=0, weights=weights_m)\n",
    "demeaned_y = (nl_sigma_points[:,1:]-mu_y).reshape((2*dim+1,(len(t)-1)*len(state_init)))\n",
    "outer_demeaned = np.array([np.outer(demeaned_y[i],demeaned_y[i]) for i in range(2*dim+1)])\n",
    "Sigma_yy = (sigma**2) * np.eye((len(t)-1)*len(state_init)) + np.average(outer_demeaned, axis=0, weights=weights_c)\n",
    "demeaned_phi = (sigma_points-mu_phi)\n",
    "outer_demeaned_phiy = np.array([np.outer(demeaned_phi[i],demeaned_y[i]) for i in range(2*dim+1)])\n",
    "Sigma_phiy = np.average(outer_demeaned_phiy, axis=0, weights=weights_c)"
   ]
  },
  {
   "cell_type": "code",
   "execution_count": 141,
   "metadata": {},
   "outputs": [
    {
     "name": "stdout",
     "output_type": "stream",
     "text": [
      "[1.60847705e-01 2.86092147e-01 7.24232359e-02 3.50497508e-02\n",
      " 2.88423573e-01 4.63321887e+03]\n"
     ]
    }
   ],
   "source": [
    "mu_y = mu_y.reshape((len(t)-1)*len(state_init))\n",
    "yobs_rs = yobs[1:].reshape((len(t)-1)*len(state_init))\n",
    "\n",
    "S = np.linalg.inv(Sigma_yy)\n",
    "H = Sigma_phiy\n",
    "mu_post = mu_phi + np.dot(H,np.linalg.solve(Sigma_yy,yobs_rs-mu_y))\n",
    "print(np.exp(mu_post))\n"
   ]
  },
  {
   "cell_type": "code",
   "execution_count": 51,
   "metadata": {},
   "outputs": [
    {
     "data": {
      "text/plain": [
       "(26, 26)"
      ]
     },
     "execution_count": 51,
     "metadata": {},
     "output_type": "execute_result"
    }
   ],
   "source": [
    "np.cov((weights_c*demeaned.T).T,demeaned).shape"
   ]
  },
  {
   "cell_type": "code",
   "execution_count": 53,
   "metadata": {},
   "outputs": [
    {
     "data": {
      "text/plain": [
       "(975, 975)"
      ]
     },
     "execution_count": 53,
     "metadata": {},
     "output_type": "execute_result"
    }
   ],
   "source": [
    "np.outer((weights_c*demeaned.T).T,demeaned).shape"
   ]
  },
  {
   "cell_type": "code",
   "execution_count": 108,
   "metadata": {},
   "outputs": [
    {
     "data": {
      "text/plain": [
       "(13, 6)"
      ]
     },
     "execution_count": 108,
     "metadata": {},
     "output_type": "execute_result"
    }
   ],
   "source": [
    "sigma_points"
   ]
  },
  {
   "cell_type": "code",
   "execution_count": null,
   "metadata": {},
   "outputs": [],
   "source": []
  },
  {
   "cell_type": "code",
   "execution_count": null,
   "metadata": {},
   "outputs": [],
   "source": []
  }
 ],
 "metadata": {
  "kernelspec": {
   "display_name": "Python 3",
   "language": "python",
   "name": "python3"
  },
  "language_info": {
   "codemirror_mode": {
    "name": "ipython",
    "version": 3
   },
   "file_extension": ".py",
   "mimetype": "text/x-python",
   "name": "python",
   "nbconvert_exporter": "python",
   "pygments_lexer": "ipython3",
   "version": "3.8.5"
  }
 },
 "nbformat": 4,
 "nbformat_minor": 4
}
